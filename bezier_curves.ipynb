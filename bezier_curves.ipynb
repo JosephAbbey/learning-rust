{
 "cells": [
  {
   "cell_type": "markdown",
   "metadata": {},
   "source": [
    "# Bezier Curves in Rust"
   ]
  },
  {
   "cell_type": "markdown",
   "metadata": {},
   "source": [
    "Based on this javascript implementation: <https://thecodingtrain.com/CodingChallenges/163-bezier.html>"
   ]
  },
  {
   "cell_type": "markdown",
   "metadata": {},
   "source": [
    "## draw a line"
   ]
  },
  {
   "cell_type": "code",
   "execution_count": 43,
   "metadata": {},
   "outputs": [
    {
     "data": {
      "text/html": [
       "<div style=\"\"><svg width=\"640\" height=\"480\" viewBox=\"0 0 640 480\" xmlns=\"http://www.w3.org/2000/svg\">\n",
       "<text x=\"320\" y=\"5\" dy=\"0.76em\" text-anchor=\"middle\" font-family=\"Arial\" font-size=\"16.129032258064516\" opacity=\"1\" fill=\"#000000\">\n",
       "2D Plotting\n",
       "</text>\n",
       "<polyline fill=\"none\" opacity=\"1\" stroke=\"#FF0000\" stroke-width=\"1\" points=\"0,479 640,26 \"/>\n",
       "</svg>\n",
       "</div>"
      ]
     },
     "execution_count": 43,
     "metadata": {},
     "output_type": "execute_result"
    }
   ],
   "source": [
    ":dep plotters = { version = \"^0.3.0\", default_features = false, features = [\"evcxr\", \"all_series\", \"all_elements\"] }\n",
    "use plotters::prelude::*;\n",
    "\n",
    "evcxr_figure((640, 480), |root| {\n",
    "    let root = root.titled(\"2D Plotting\", (\"Arial\", 20).into_font())?;\n",
    "\n",
    "    let mut chart = ChartBuilder::on(&root)\n",
    "        .build_cartesian_2d(0..600, 0..600)?;\n",
    "\n",
    "    chart.draw_series(\n",
    "        LineSeries::new(vec![(0, 0), (600, 600)], &RED)\n",
    "    )?;\n",
    "\n",
    "    Ok(())\n",
    "})"
   ]
  },
  {
   "cell_type": "markdown",
   "metadata": {},
   "source": [
    "## lerp function"
   ]
  },
  {
   "cell_type": "code",
   "execution_count": 4,
   "metadata": {},
   "outputs": [
    {
     "name": "stdout",
     "output_type": "stream",
     "text": [
      "5\n",
      "20\n"
     ]
    }
   ],
   "source": [
    "// could use `use lerp::Lerp;`\n",
    "fn lerp(to: (f64, f64), x: f64) -> f64 {\n",
    "    x * (to.1 - to.0) + to.0\n",
    "}\n",
    "\n",
    "println!(\"{}\", lerp((0.0, 10.0), 0.5));\n",
    "println!(\"{}\", lerp((0.0, 10.0), 2.0));"
   ]
  },
  {
   "cell_type": "markdown",
   "metadata": {},
   "source": [
    "## quadratic bezier curve"
   ]
  },
  {
   "cell_type": "code",
   "execution_count": 6,
   "metadata": {},
   "outputs": [
    {
     "data": {
      "text/html": [
       "<div style=\"\"><svg width=\"640\" height=\"480\" viewBox=\"0 0 640 480\" xmlns=\"http://www.w3.org/2000/svg\">\n",
       "<text x=\"320\" y=\"5\" dy=\"0.76em\" text-anchor=\"middle\" font-family=\"Arial\" font-size=\"16.129032258064516\" opacity=\"1\" fill=\"#000000\">\n",
       "2D Plotting\n",
       "</text>\n",
       "<polyline fill=\"none\" opacity=\"1\" stroke=\"#FF0000\" stroke-width=\"1\" points=\"0,252 320,479 \"/>\n",
       "<polyline fill=\"none\" opacity=\"1\" stroke=\"#FF0000\" stroke-width=\"1\" points=\"16,263 336,467 \"/>\n",
       "<polyline fill=\"none\" opacity=\"1\" stroke=\"#FF0000\" stroke-width=\"1\" points=\"32,274 352,456 \"/>\n",
       "<polyline fill=\"none\" opacity=\"1\" stroke=\"#FF0000\" stroke-width=\"1\" points=\"48,286 368,444 \"/>\n",
       "<polyline fill=\"none\" opacity=\"1\" stroke=\"#FF0000\" stroke-width=\"1\" points=\"64,297 384,433 \"/>\n",
       "<polyline fill=\"none\" opacity=\"1\" stroke=\"#FF0000\" stroke-width=\"1\" points=\"80,308 400,422 \"/>\n",
       "<polyline fill=\"none\" opacity=\"1\" stroke=\"#FF0000\" stroke-width=\"1\" points=\"96,320 416,410 \"/>\n",
       "<polyline fill=\"none\" opacity=\"1\" stroke=\"#FF0000\" stroke-width=\"1\" points=\"112,331 432,399 \"/>\n",
       "<polyline fill=\"none\" opacity=\"1\" stroke=\"#FF0000\" stroke-width=\"1\" points=\"128,342 448,388 \"/>\n",
       "<polyline fill=\"none\" opacity=\"1\" stroke=\"#FF0000\" stroke-width=\"1\" points=\"144,354 464,376 \"/>\n",
       "<polyline fill=\"none\" opacity=\"1\" stroke=\"#FF0000\" stroke-width=\"1\" points=\"160,365 480,365 \"/>\n",
       "<polyline fill=\"none\" opacity=\"1\" stroke=\"#FF0000\" stroke-width=\"1\" points=\"176,376 496,354 \"/>\n",
       "<polyline fill=\"none\" opacity=\"1\" stroke=\"#FF0000\" stroke-width=\"1\" points=\"192,388 512,342 \"/>\n",
       "<polyline fill=\"none\" opacity=\"1\" stroke=\"#FF0000\" stroke-width=\"1\" points=\"208,399 528,331 \"/>\n",
       "<polyline fill=\"none\" opacity=\"1\" stroke=\"#FF0000\" stroke-width=\"1\" points=\"224,410 544,320 \"/>\n",
       "<polyline fill=\"none\" opacity=\"1\" stroke=\"#FF0000\" stroke-width=\"1\" points=\"240,422 560,308 \"/>\n",
       "<polyline fill=\"none\" opacity=\"1\" stroke=\"#FF0000\" stroke-width=\"1\" points=\"256,433 576,297 \"/>\n",
       "<polyline fill=\"none\" opacity=\"1\" stroke=\"#FF0000\" stroke-width=\"1\" points=\"272,444 592,286 \"/>\n",
       "<polyline fill=\"none\" opacity=\"1\" stroke=\"#FF0000\" stroke-width=\"1\" points=\"288,456 608,274 \"/>\n",
       "<polyline fill=\"none\" opacity=\"1\" stroke=\"#FF0000\" stroke-width=\"1\" points=\"304,467 624,263 \"/>\n",
       "</svg>\n",
       "</div>"
      ]
     },
     "execution_count": 6,
     "metadata": {},
     "output_type": "execute_result"
    }
   ],
   "source": [
    ":dep plotters = { version = \"^0.3.0\", default_features = false, features = [\"evcxr\", \"all_series\", \"all_elements\"] }\n",
    "use plotters::prelude::*;\n",
    "\n",
    "evcxr_figure((640, 480), |root| {\n",
    "    let root = root.titled(\"2D Plotting\", (\"Arial\", 20).into_font())?;\n",
    "\n",
    "    let mut chart = ChartBuilder::on(&root)\n",
    "        .build_cartesian_2d(0.0..600.0, 0.0..600.0)?;\n",
    "\n",
    "    struct Point {\n",
    "        x: f64,\n",
    "        y: f64,\n",
    "    }\n",
    "\n",
    "    let delta = 0.05;\n",
    "    let p0 = Point { x: 0.0,   y: 300.0 };\n",
    "    let p1 = Point { x: 300.0, y: 0.0   };\n",
    "    let p2 = Point { x: 600.0, y: 300.0 };\n",
    "\n",
    "\n",
    "    for i in 0..((1.0 / delta) as i32) {\n",
    "        let j = (i as f64) * delta;\n",
    "        let x1 = lerp((p0.x, p1.x), j);\n",
    "        let y1 = lerp((p0.y, p1.y), j);\n",
    "        let x2 = lerp((p1.x, p2.x), j);\n",
    "        let y2 = lerp((p1.y, p2.y), j);\n",
    "        chart.draw_series(\n",
    "            LineSeries::new(vec![(x1, y1), (x2, y2)], &RED)\n",
    "        )?;\n",
    "    }\n",
    "\n",
    "    Ok(())\n",
    "})"
   ]
  },
  {
   "cell_type": "markdown",
   "metadata": {},
   "source": [
    "## quadratic bezier curve function"
   ]
  },
  {
   "cell_type": "code",
   "execution_count": 7,
   "metadata": {},
   "outputs": [
    {
     "data": {
      "text/html": [
       "<div style=\"\"><svg width=\"640\" height=\"480\" viewBox=\"0 0 640 480\" xmlns=\"http://www.w3.org/2000/svg\">\n",
       "<text x=\"320\" y=\"5\" dy=\"0.76em\" text-anchor=\"middle\" font-family=\"Arial\" font-size=\"16.129032258064516\" opacity=\"1\" fill=\"#000000\">\n",
       "2D Plotting\n",
       "</text>\n",
       "<polyline fill=\"none\" opacity=\"1\" stroke=\"#FF0000\" stroke-width=\"1\" points=\"0,252 320,479 16,263 336,467 32,274 352,456 48,286 368,444 64,297 384,433 80,308 400,422 96,320 416,410 112,331 432,399 128,342 448,388 144,354 464,376 160,365 480,365 176,376 496,354 192,388 512,342 208,399 528,331 224,410 544,320 240,422 560,308 256,433 576,297 272,444 592,286 288,456 608,274 304,467 624,263 \"/>\n",
       "<polyline fill=\"none\" opacity=\"1\" stroke=\"#0000FF\" stroke-width=\"1\" points=\"0,26 213,327 10,40 234,323 21,55 256,320 32,70 277,316 42,85 298,312 53,100 320,308 64,115 341,304 74,130 362,301 85,146 384,297 96,161 405,293 106,176 426,289 117,191 448,286 128,206 469,282 138,221 490,278 149,236 512,274 160,252 533,270 170,267 554,267 181,282 576,263 192,297 597,259 202,312 618,255 \"/>\n",
       "</svg>\n",
       "</div>"
      ]
     },
     "execution_count": 7,
     "metadata": {},
     "output_type": "execute_result"
    }
   ],
   "source": [
    ":dep plotters = { version = \"^0.3.0\", default_features = false, features = [\"evcxr\", \"all_series\", \"all_elements\"] }\n",
    "use plotters::prelude::*;\n",
    "\n",
    "evcxr_figure((640, 480), |root| {\n",
    "    let root = root.titled(\"2D Plotting\", (\"Arial\", 20).into_font())?;\n",
    "\n",
    "    let mut chart = ChartBuilder::on(&root)\n",
    "        .build_cartesian_2d(0.0..600.0, 0.0..600.0)?;\n",
    "\n",
    "    struct Point {\n",
    "        x: f64,\n",
    "        y: f64,\n",
    "    }\n",
    "\n",
    "    fn quadratic_bezier(p0: Point, p1: Point, p2: Point, delta: f64) -> Vec<(f64, f64)> {\n",
    "        let mut line = Vec::new();\n",
    "        for i in 0..((1.0 / delta) as i32) {\n",
    "            let j = (i as f64) * delta;\n",
    "            let x1 = lerp((p0.x, p1.x), j);\n",
    "            let y1 = lerp((p0.y, p1.y), j);\n",
    "            let x2 = lerp((p1.x, p2.x), j);\n",
    "            let y2 = lerp((p1.y, p2.y), j);\n",
    "            line.push((x1, y1));\n",
    "            line.push((x2, y2));\n",
    "        }\n",
    "        line\n",
    "    }\n",
    "\n",
    "    let delta = 0.05;\n",
    "\n",
    "    chart.draw_series(\n",
    "        LineSeries::new(\n",
    "            quadratic_bezier(\n",
    "                Point { x: 0.0, y: 300.0 }, \n",
    "                Point { x: 300.0, y: 0.0 }, \n",
    "                Point { x: 600.0, y: 300.0 }, \n",
    "                delta\n",
    "            ), \n",
    "            &RED\n",
    "        )\n",
    "    )?;\n",
    "\n",
    "    chart.draw_series(\n",
    "        LineSeries::new(\n",
    "            quadratic_bezier(\n",
    "                Point { x: 0.0, y: 600.0 }, \n",
    "                Point { x: 200.0, y: 200.0 }, \n",
    "                Point { x: 600.0, y: 300.0 }, \n",
    "                delta\n",
    "            ), \n",
    "            &BLUE\n",
    "        )\n",
    "    )?;\n",
    "\n",
    "    Ok(())\n",
    "})"
   ]
  },
  {
   "cell_type": "markdown",
   "metadata": {},
   "source": [
    "## cubic bezier curve"
   ]
  },
  {
   "cell_type": "code",
   "execution_count": 27,
   "metadata": {},
   "outputs": [
    {
     "data": {
      "text/html": [
       "<div style=\"\"><svg width=\"640\" height=\"480\" viewBox=\"0 0 640 480\" xmlns=\"http://www.w3.org/2000/svg\">\n",
       "<text x=\"320\" y=\"5\" dy=\"0.76em\" text-anchor=\"middle\" font-family=\"Arial\" font-size=\"16.129032258064516\" opacity=\"1\" fill=\"#000000\">\n",
       "2D Plotting\n",
       "</text>\n",
       "<polyline fill=\"none\" opacity=\"1\" stroke=\"#FF0000\" stroke-width=\"1\" points=\"0,479 640,479 \"/>\n",
       "<polyline fill=\"none\" opacity=\"1\" stroke=\"#FF0000\" stroke-width=\"1\" points=\"60,477 579,434 \"/>\n",
       "<polyline fill=\"none\" opacity=\"1\" stroke=\"#FF0000\" stroke-width=\"1\" points=\"115,474 524,392 \"/>\n",
       "<polyline fill=\"none\" opacity=\"1\" stroke=\"#FF0000\" stroke-width=\"1\" points=\"163,468 476,353 \"/>\n",
       "<polyline fill=\"none\" opacity=\"1\" stroke=\"#FF0000\" stroke-width=\"1\" points=\"204,460 435,315 \"/>\n",
       "<polyline fill=\"none\" opacity=\"1\" stroke=\"#FF0000\" stroke-width=\"1\" points=\"240,450 400,280 \"/>\n",
       "<polyline fill=\"none\" opacity=\"1\" stroke=\"#FF0000\" stroke-width=\"1\" points=\"268,438 371,247 \"/>\n",
       "<polyline fill=\"none\" opacity=\"1\" stroke=\"#FF0000\" stroke-width=\"1\" points=\"291,423 348,216 \"/>\n",
       "<polyline fill=\"none\" opacity=\"1\" stroke=\"#FF0000\" stroke-width=\"1\" points=\"307,406 332,188 \"/>\n",
       "<polyline fill=\"none\" opacity=\"1\" stroke=\"#FF0000\" stroke-width=\"1\" points=\"316,387 323,162 \"/>\n",
       "<polyline fill=\"none\" opacity=\"1\" stroke=\"#FF0000\" stroke-width=\"1\" points=\"320,365 320,138 \"/>\n",
       "<polyline fill=\"none\" opacity=\"1\" stroke=\"#FF0000\" stroke-width=\"1\" points=\"316,341 323,116 \"/>\n",
       "<polyline fill=\"none\" opacity=\"1\" stroke=\"#FF0000\" stroke-width=\"1\" points=\"307,315 332,97 \"/>\n",
       "<polyline fill=\"none\" opacity=\"1\" stroke=\"#FF0000\" stroke-width=\"1\" points=\"291,287 348,80 \"/>\n",
       "<polyline fill=\"none\" opacity=\"1\" stroke=\"#FF0000\" stroke-width=\"1\" points=\"268,256 371,65 \"/>\n",
       "<polyline fill=\"none\" opacity=\"1\" stroke=\"#FF0000\" stroke-width=\"1\" points=\"240,223 400,53 \"/>\n",
       "<polyline fill=\"none\" opacity=\"1\" stroke=\"#FF0000\" stroke-width=\"1\" points=\"204,188 435,43 \"/>\n",
       "<polyline fill=\"none\" opacity=\"1\" stroke=\"#FF0000\" stroke-width=\"1\" points=\"163,150 476,35 \"/>\n",
       "<polyline fill=\"none\" opacity=\"1\" stroke=\"#FF0000\" stroke-width=\"1\" points=\"115,111 524,29 \"/>\n",
       "<polyline fill=\"none\" opacity=\"1\" stroke=\"#FF0000\" stroke-width=\"1\" points=\"60,69 579,26 \"/>\n",
       "</svg>\n",
       "</div>"
      ]
     },
     "execution_count": 27,
     "metadata": {},
     "output_type": "execute_result"
    }
   ],
   "source": [
    ":dep plotters = { version = \"^0.3.0\", default_features = false, features = [\"evcxr\", \"all_series\", \"all_elements\"] }\n",
    "use plotters::prelude::*;\n",
    "\n",
    "evcxr_figure((640, 480), |root| {\n",
    "    let root = root.titled(\"2D Plotting\", (\"Arial\", 20).into_font())?;\n",
    "\n",
    "    let mut chart = ChartBuilder::on(&root)\n",
    "        .build_cartesian_2d(0.0..600.0, 0.0..600.0)?;\n",
    "\n",
    "    #[derive(Copy, Clone)]\n",
    "    struct Point {\n",
    "        x: f64,\n",
    "        y: f64,\n",
    "    }\n",
    "\n",
    "    fn quadratic(p0: Point, p1: Point, p2: Point, j: f64) -> (f64, f64) {\n",
    "        let x1 = lerp((p0.x, p1.x), j);\n",
    "        let y1 = lerp((p0.y, p1.y), j);\n",
    "        let x2 = lerp((p1.x, p2.x), j);\n",
    "        let y2 = lerp((p1.y, p2.y), j);\n",
    "        let x = lerp((x1, x2), j);\n",
    "        let y = lerp((y1, y2), j);\n",
    "        (x, y)\n",
    "    }\n",
    "\n",
    "    let delta = 0.05;\n",
    "    let p0 = Point { x: 0.0,   y: 0.0   };\n",
    "    let p1 = Point { x: 600.0, y: 0.0   };\n",
    "    let p2 = Point { x: 0.0,   y: 600.0 };\n",
    "    let p3 = Point { x: 600.0, y: 600.0 };\n",
    "\n",
    "    for i in 0..((1.0 / delta) as i32) {\n",
    "        let j = (i as f64) * delta;\n",
    "        let v1 = quadratic(p0, p1, p2, j);\n",
    "        let v2 = quadratic(p1, p2, p3, j);\n",
    "        chart.draw_series(\n",
    "            LineSeries::new(vec![v1, v2], &RED)\n",
    "        )?;\n",
    "    }\n",
    "\n",
    "    Ok(())\n",
    "})"
   ]
  },
  {
   "cell_type": "markdown",
   "metadata": {},
   "source": [
    "## cubic bezier curve function"
   ]
  },
  {
   "cell_type": "code",
   "execution_count": 33,
   "metadata": {},
   "outputs": [
    {
     "data": {
      "text/html": [
       "<div style=\"\"><svg width=\"640\" height=\"480\" viewBox=\"0 0 640 480\" xmlns=\"http://www.w3.org/2000/svg\">\n",
       "<text x=\"320\" y=\"5\" dy=\"0.76em\" text-anchor=\"middle\" font-family=\"Arial\" font-size=\"16.129032258064516\" opacity=\"1\" fill=\"#000000\">\n",
       "2D Plotting\n",
       "</text>\n",
       "<polyline fill=\"none\" opacity=\"1\" stroke=\"#FF0000\" stroke-width=\"1\" points=\"0,479 640,479 60,477 579,434 115,474 524,392 163,468 476,353 204,460 435,315 240,450 400,280 268,438 371,247 291,423 348,216 307,406 332,188 316,387 323,162 320,365 320,138 316,341 323,116 307,315 332,97 291,287 348,80 268,256 371,65 240,223 400,53 204,188 435,43 163,150 476,35 115,111 524,29 60,69 579,26 \"/>\n",
       "</svg>\n",
       "</div>"
      ]
     },
     "execution_count": 33,
     "metadata": {},
     "output_type": "execute_result"
    }
   ],
   "source": [
    ":dep plotters = { version = \"^0.3.0\", default_features = false, features = [\"evcxr\", \"all_series\", \"all_elements\"] }\n",
    "use plotters::prelude::*;\n",
    "\n",
    "evcxr_figure((640, 480), |root| {\n",
    "    let root = root.titled(\"2D Plotting\", (\"Arial\", 20).into_font())?;\n",
    "\n",
    "    let mut chart = ChartBuilder::on(&root)\n",
    "        .build_cartesian_2d(0.0..600.0, 0.0..600.0)?;\n",
    "\n",
    "    #[derive(Copy, Clone)]\n",
    "    struct Point {\n",
    "        x: f64,\n",
    "        y: f64,\n",
    "    }\n",
    "\n",
    "    fn quadratic(p0: Point, p1: Point, p2: Point, j: f64) -> (f64, f64) {\n",
    "        let x1 = lerp((p0.x, p1.x), j);\n",
    "        let y1 = lerp((p0.y, p1.y), j);\n",
    "        let x2 = lerp((p1.x, p2.x), j);\n",
    "        let y2 = lerp((p1.y, p2.y), j);\n",
    "        let x = lerp((x1, x2), j);\n",
    "        let y = lerp((y1, y2), j);\n",
    "        (x, y)\n",
    "    }\n",
    "\n",
    "    fn cubic_bezier(p0: Point, p1: Point, p2: Point, p3: Point, delta: f64) -> Vec<(f64, f64)> {\n",
    "        let mut line = Vec::new();\n",
    "        for i in 0..((1.0 / delta) as i32) {\n",
    "            let j = (i as f64) * delta;\n",
    "            line.push(quadratic(p0, p1, p2, j));\n",
    "            line.push(quadratic(p1, p2, p3, j));\n",
    "        }\n",
    "        line\n",
    "    }\n",
    "\n",
    "    let delta = 0.05;\n",
    "\n",
    "    chart.draw_series(\n",
    "        LineSeries::new(\n",
    "            cubic_bezier(\n",
    "                Point { x: 0.0,   y: 0.0   },\n",
    "                Point { x: 600.0, y: 0.0   },\n",
    "                Point { x: 0.0,   y: 600.0 },\n",
    "                Point { x: 600.0, y: 600.0 },\n",
    "                delta\n",
    "            ), \n",
    "            &RED\n",
    "        )\n",
    "    )?;\n",
    "\n",
    "    Ok(())\n",
    "})"
   ]
  }
 ],
 "metadata": {
  "kernelspec": {
   "display_name": "Rust",
   "language": "rust",
   "name": "rust"
  },
  "language_info": {
   "codemirror_mode": "rust",
   "file_extension": ".rs",
   "mimetype": "text/rust",
   "name": "Rust",
   "pygment_lexer": "rust",
   "version": ""
  },
  "orig_nbformat": 4
 },
 "nbformat": 4,
 "nbformat_minor": 2
}
