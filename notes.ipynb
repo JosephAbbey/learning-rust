{
 "cells": [
  {
   "cell_type": "markdown",
   "metadata": {},
   "source": [
    "# Rust Notes"
   ]
  },
  {
   "cell_type": "markdown",
   "metadata": {},
   "source": [
    "Pretty much a summary of <https://doc.rust-lang.org/book/>."
   ]
  },
  {
   "cell_type": "markdown",
   "metadata": {},
   "source": [
    "## functional programming language"
   ]
  },
  {
   "cell_type": "markdown",
   "metadata": {},
   "source": [
    "`main.main` (main.rs) is the main function of a program."
   ]
  },
  {
   "cell_type": "markdown",
   "metadata": {},
   "source": [
    "## Basics"
   ]
  },
  {
   "cell_type": "markdown",
   "metadata": {},
   "source": [
    "print with `println!` and `print!` functions.\n",
    "\n",
    "`let` declares variables, \n",
    "`mut` makes variables mutable.\n",
    "\n",
    "colons used for assigning types."
   ]
  },
  {
   "cell_type": "markdown",
   "metadata": {},
   "source": [
    "### Loops"
   ]
  },
  {
   "cell_type": "markdown",
   "metadata": {},
   "source": [
    "- loops are by default infinite\n",
    "- break and continue to exit and skip\n",
    "- while loops also exist\n",
    "- for loops need to be made manually (the `start..end` syntax is available)\n",
    "- loops can be named for specifying which loop to break and continue\n",
    "- loops can return values"
   ]
  },
  {
   "cell_type": "markdown",
   "metadata": {},
   "source": [
    "## Structs"
   ]
  },
  {
   "cell_type": "markdown",
   "metadata": {},
   "source": [
    "`struct` is similar to `interface` in typescript (used for typing objects)."
   ]
  },
  {
   "cell_type": "code",
   "execution_count": 24,
   "metadata": {},
   "outputs": [],
   "source": [
    "struct Point {\n",
    "  x: i32,\n",
    "  y: i32,\n",
    "}\n",
    "\n",
    "let mut point = Point { x: 0, y: 5 };\n",
    "println!(\"point is ({}, {})\", point.x, point.y);\n",
    "point.x = 5;\n",
    "println!(\"point is ({}, {})\", point.x, point.y);"
   ]
  },
  {
   "cell_type": "markdown",
   "metadata": {},
   "source": [
    "`..object` uses the fields from the given instance to fill in the rest."
   ]
  },
  {
   "cell_type": "code",
   "execution_count": 25,
   "metadata": {},
   "outputs": [
    {
     "name": "stdout",
     "output_type": "stream",
     "text": [
      "point is (0, 5)\n",
      "point is (5, 5)\n"
     ]
    },
    {
     "name": "stdout",
     "output_type": "stream",
     "text": [
      "point is (5, 5)\n",
      "point is (5, 5)\n"
     ]
    }
   ],
   "source": [
    "let mut point2 = Point { \n",
    "  x: 0, \n",
    "  ..point\n",
    "};\n",
    "println!(\"point is ({}, {})\", point.x, point.y);\n",
    "point.x = 5;\n",
    "println!(\"point is ({}, {})\", point.x, point.y);"
   ]
  },
  {
   "cell_type": "markdown",
   "metadata": {},
   "source": [
    "tuple structs can be used to make a struct without named fields."
   ]
  },
  {
   "cell_type": "code",
   "execution_count": 26,
   "metadata": {},
   "outputs": [
    {
     "name": "stdout",
     "output_type": "stream",
     "text": [
      "p is (1, 2, 3)\n",
      "p is (1, 5, 3)\n"
     ]
    }
   ],
   "source": [
    "struct PointT(i32, i32, i32);\n",
    "\n",
    "let mut point = PointT(1, 2, 3);\n",
    "println!(\"p is ({}, {}, {})\", point.0, point.1, point.2);\n",
    "point.1 = 5;\n",
    "println!(\"p is ({}, {}, {})\", point.0, point.1, point.2);"
   ]
  },
  {
   "cell_type": "markdown",
   "metadata": {},
   "source": [
    "unit-like structs act similarly to a single field on an enum and are always equal to themselves"
   ]
  },
  {
   "cell_type": "code",
   "execution_count": 27,
   "metadata": {},
   "outputs": [],
   "source": [
    "struct AlwaysEqual;\n",
    "\n",
    "let subject = AlwaysEqual;"
   ]
  },
  {
   "cell_type": "markdown",
   "metadata": {},
   "source": [
    "structs can have implementation blocks"
   ]
  },
  {
   "cell_type": "code",
   "execution_count": 28,
   "metadata": {},
   "outputs": [],
   "source": [
    "struct Rectangle {\n",
    "  width: u32,\n",
    "  height: u32,\n",
    "}\n",
    "\n",
    "impl Rectangle {\n",
    "  fn area(&self) -> u32 {\n",
    "  self.width * self.height\n",
    "  }\n",
    "}\n",
    "// the first parameter of a method is always a reference to the parent"
   ]
  },
  {
   "cell_type": "markdown",
   "metadata": {},
   "source": [
    "## Enums"
   ]
  },
  {
   "cell_type": "markdown",
   "metadata": {},
   "source": [
    "`enum` is the same as in typescript"
   ]
  },
  {
   "cell_type": "code",
   "execution_count": 29,
   "metadata": {},
   "outputs": [
    {
     "name": "stdout",
     "output_type": "stream",
     "text": [
      "Going up\n",
      "Going down\n"
     ]
    }
   ],
   "source": [
    "#[derive(PartialEq)]\n",
    "enum Direction { \n",
    "  Up, \n",
    "  Down, \n",
    "  Left, \n",
    "  Right, \n",
    "}\n",
    "\n",
    "let direction = Direction::Up;\n",
    "\n",
    "fn go(dir: Direction) {\n",
    "  if dir == Direction::Up {\n",
    "    println!(\"Going up\");\n",
    "  } else if dir == Direction::Down {\n",
    "    println!(\"Going down\");\n",
    "  } else if dir == Direction::Left {\n",
    "    println!(\"Going left\");\n",
    "  } else if dir == Direction::Right {\n",
    "    println!(\"Going right\");\n",
    "  }\n",
    "}\n",
    "\n",
    "go(direction);\n",
    "go(Direction::Down);"
   ]
  },
  {
   "cell_type": "markdown",
   "metadata": {},
   "source": [
    "above the `#[derive(PartialEq)]` allows the enum to be compared with `==`."
   ]
  },
  {
   "cell_type": "markdown",
   "metadata": {},
   "source": [
    "enums can be associated data types/values"
   ]
  },
  {
   "cell_type": "code",
   "execution_count": 30,
   "metadata": {},
   "outputs": [],
   "source": [
    "enum Direction2 { \n",
    "  Up(i32), \n",
    "  Down(i32), \n",
    "  Left(i32), \n",
    "  Right(i32) \n",
    "}"
   ]
  },
  {
   "cell_type": "markdown",
   "metadata": {},
   "source": [
    "enums can also have multiple types/values associated with them"
   ]
  },
  {
   "cell_type": "code",
   "execution_count": 31,
   "metadata": {},
   "outputs": [],
   "source": [
    "enum Direction3 {\n",
    "  Up(i32),\n",
    "  Down(i32),\n",
    "  Left(i32),\n",
    "  Right(i32),\n",
    "  UpLeft(i32, i32),\n",
    "  UpRight(i32, i32),\n",
    "  DownLeft(i32, i32),\n",
    "  DownRight(i32, i32),\n",
    "}"
   ]
  },
  {
   "cell_type": "markdown",
   "metadata": {},
   "source": [
    "enums can also have (multiple) named types associated with themselves"
   ]
  },
  {
   "cell_type": "code",
   "execution_count": 32,
   "metadata": {},
   "outputs": [],
   "source": [
    "enum Direction4 {\n",
    "  Up(i32),\n",
    "  Down(i32),\n",
    "  Left(i32),\n",
    "  Right(i32),\n",
    "  UpLeft{ up: i32, left: i32 },\n",
    "  UpRight{ up: i32, right: i32 },\n",
    "  DownLeft{ down: i32, left: i32 },\n",
    "  DownRight{ down: i32, right: i32 },\n",
    "}"
   ]
  },
  {
   "cell_type": "markdown",
   "metadata": {},
   "source": [
    "enums can alo have implementations similarly to structs"
   ]
  },
  {
   "cell_type": "code",
   "execution_count": 33,
   "metadata": {},
   "outputs": [
    {
     "name": "stdout",
     "output_type": "stream",
     "text": [
      "true\n",
      "false\n"
     ]
    }
   ],
   "source": [
    "enum Direction5 {\n",
    "  Up(i32),\n",
    "  Down(i32),\n",
    "  Left(i32),\n",
    "  Right(i32),\n",
    "}\n",
    "\n",
    "impl Direction5 {\n",
    "  fn is_up(&self) -> bool {\n",
    "    match self {\n",
    "      Direction5::Up(_) => true,\n",
    "      _ => false,\n",
    "    }\n",
    "  }\n",
    "}\n",
    "\n",
    "println!(\"{}\", Direction5::Up(1).is_up());\n",
    "println!(\"{}\", Direction5::Down(1).is_up());"
   ]
  },
  {
   "cell_type": "markdown",
   "metadata": {},
   "source": [
    "enums can also have options"
   ]
  },
  {
   "cell_type": "code",
   "execution_count": 34,
   "metadata": {},
   "outputs": [],
   "source": [
    "enum Direction6<T> {\n",
    "  Up(T),\n",
    "  Down(T),\n",
    "  Left(T),\n",
    "  Right(T),\n",
    "  UpLeft{ up: T, left: T },\n",
    "  UpRight{ up: T, right: T },\n",
    "  DownLeft{ down: T, left: T },\n",
    "  DownRight{ down: T, right: T },\n",
    "}\n",
    "\n",
    "// now all the values are of the type `T`\n",
    "\n",
    "Direction6::<u32>::Up(1u32);\n",
    "Direction6::<f32>::Up(1.1f32);\n"
   ]
  },
  {
   "cell_type": "markdown",
   "metadata": {},
   "source": [
    "There is no null in rust, but there is a `Option` type."
   ]
  },
  {
   "cell_type": "code",
   "execution_count": 35,
   "metadata": {},
   "outputs": [],
   "source": [
    "// enum Option<T> {\n",
    "//   None,\n",
    "//   Some(T),\n",
    "// }\n",
    "\n",
    "Option::<u32>::None; // this is null but it is the same type as:\n",
    "Option::<u32>::Some(10u32);\n",
    "\n",
    "Option::<f32>::None; // this is null but it is the same type as:\n",
    "Option::<f32>::Some(10.01f32);"
   ]
  },
  {
   "cell_type": "markdown",
   "metadata": {},
   "source": [
    "`Option` is included in the standard library and does not need to be imported."
   ]
  },
  {
   "cell_type": "markdown",
   "metadata": {},
   "source": [
    "## Matches"
   ]
  },
  {
   "cell_type": "markdown",
   "metadata": {},
   "source": [
    "`match` is similar to `switch` in javascript but it can return a value not just execute a block."
   ]
  },
  {
   "cell_type": "code",
   "execution_count": 36,
   "metadata": {},
   "outputs": [],
   "source": [
    "enum Coin {\n",
    "  Penny,\n",
    "  Nickel,\n",
    "  Dime,\n",
    "  Quarter,\n",
    "}\n",
    "\n",
    "fn value_in_cents(coin: Coin) -> u8 {\n",
    "  match coin {\n",
    "    Coin::Penny => 1,\n",
    "    Coin::Nickel => 5,\n",
    "    Coin::Dime => 10,\n",
    "    Coin::Quarter => 25,\n",
    "  }\n",
    "}"
   ]
  },
  {
   "cell_type": "markdown",
   "metadata": {},
   "source": [
    "fellow englishmen I agree the American coin system makes no sense"
   ]
  },
  {
   "cell_type": "markdown",
   "metadata": {},
   "source": [
    "`match` can also take the value from the enum"
   ]
  },
  {
   "cell_type": "code",
   "execution_count": 37,
   "metadata": {},
   "outputs": [],
   "source": [
    "#[derive(Debug)] // this line is required to print the enum\n",
    "enum UsState {\n",
    "  Alabama,\n",
    "  Alaska,\n",
    "  // ...\n",
    "}\n",
    "\n",
    "enum Coin2 {\n",
    "  Penny,\n",
    "  Nickel,\n",
    "  Dime,\n",
    "  Quarter(UsState),\n",
    "}\n",
    "\n",
    "fn value_in_cents(coin: Coin2) -> u8 {\n",
    "  match coin {\n",
    "    Coin2::Penny => 1,\n",
    "    Coin2::Nickel => 5,\n",
    "    Coin2::Dime => 10,\n",
    "    Coin2::Quarter(state) => {\n",
    "      println!(\"State quarter from {:?}!\", state);\n",
    "      25\n",
    "    }\n",
    "  }\n",
    "}"
   ]
  },
  {
   "cell_type": "markdown",
   "metadata": {},
   "source": [
    "`match` with `Option<T>`"
   ]
  },
  {
   "cell_type": "code",
   "execution_count": 38,
   "metadata": {},
   "outputs": [],
   "source": [
    "fn plus_one(n: Option<i32>) -> Option<i32> {\n",
    "  match n {\n",
    "    None => None,\n",
    "    Some(i) => Some(i + 1),\n",
    "  }\n",
    "}\n",
    "\n",
    "let five = Some(5);\n",
    "let six = plus_one(five);\n",
    "let none = plus_one(None);"
   ]
  },
  {
   "cell_type": "markdown",
   "metadata": {},
   "source": [
    "the `other` pattern is like the `default` pattern in javascript"
   ]
  },
  {
   "cell_type": "code",
   "execution_count": 39,
   "metadata": {},
   "outputs": [
    {
     "name": "stdout",
     "output_type": "stream",
     "text": [
      "10\n"
     ]
    },
    {
     "data": {
      "text/plain": [
       "()"
      ]
     },
     "execution_count": 39,
     "metadata": {},
     "output_type": "execute_result"
    }
   ],
   "source": [
    "let n = 10;\n",
    "println!(\n",
    "  \"{}\",\n",
    "  match n {\n",
    "    3 => 1,\n",
    "    7 => 3,\n",
    "    other => other,\n",
    "  }\n",
    ")"
   ]
  },
  {
   "cell_type": "markdown",
   "metadata": {},
   "source": [
    "the `_` pattern is like the `other` pattern but it doesn't bind the value"
   ]
  },
  {
   "cell_type": "code",
   "execution_count": 40,
   "metadata": {},
   "outputs": [
    {
     "name": "stdout",
     "output_type": "stream",
     "text": [
      "7\n"
     ]
    },
    {
     "data": {
      "text/plain": [
       "()"
      ]
     },
     "execution_count": 40,
     "metadata": {},
     "output_type": "execute_result"
    }
   ],
   "source": [
    "let n = 10;\n",
    "println!(\n",
    "  \"{}\",\n",
    "  match n {\n",
    "    3 => 1,\n",
    "    7 => 3,\n",
    "    _ => 7,\n",
    "  }\n",
    ")"
   ]
  },
  {
   "cell_type": "markdown",
   "metadata": {},
   "source": [
    "## If Let"
   ]
  },
  {
   "cell_type": "markdown",
   "metadata": {},
   "source": [
    "`if let` combines `if` and `let`"
   ]
  },
  {
   "cell_type": "markdown",
   "metadata": {},
   "source": [
    "it simplifies"
   ]
  },
  {
   "cell_type": "code",
   "execution_count": 41,
   "metadata": {},
   "outputs": [
    {
     "name": "stdout",
     "output_type": "stream",
     "text": [
      "number 3!\n"
     ]
    },
    {
     "data": {
      "text/plain": [
       "()"
      ]
     },
     "execution_count": 41,
     "metadata": {},
     "output_type": "execute_result"
    }
   ],
   "source": [
    "let some_option = Some(3);\n",
    "match some_option {\n",
    "  Some(amount) => println!(\"number {}!\", amount),\n",
    "  _ => (),\n",
    "}"
   ]
  },
  {
   "cell_type": "markdown",
   "metadata": {},
   "source": [
    "to"
   ]
  },
  {
   "cell_type": "code",
   "execution_count": 42,
   "metadata": {},
   "outputs": [
    {
     "name": "stdout",
     "output_type": "stream",
     "text": [
      "number 3!\n"
     ]
    },
    {
     "data": {
      "text/plain": [
       "()"
      ]
     },
     "execution_count": 42,
     "metadata": {},
     "output_type": "execute_result"
    }
   ],
   "source": [
    "let some_option = Some(3);\n",
    "if let Some(amount) = some_option {\n",
    "  println!(\"number {}!\", amount);\n",
    "}"
   ]
  },
  {
   "cell_type": "markdown",
   "metadata": {},
   "source": [
    "`if let` can also be used to match on multiple values"
   ]
  },
  {
   "cell_type": "code",
   "execution_count": 43,
   "metadata": {},
   "outputs": [
    {
     "name": "stdout",
     "output_type": "stream",
     "text": [
      "up: 3!\n"
     ]
    },
    {
     "data": {
      "text/plain": [
       "()"
      ]
     },
     "execution_count": 43,
     "metadata": {},
     "output_type": "execute_result"
    }
   ],
   "source": [
    "enum Direction7 {\n",
    "  Up(i32),\n",
    "  Down(i32),\n",
    "  Left(i32),\n",
    "  Right(i32),\n",
    "}\n",
    "\n",
    "let some_option = Direction7::Up(3);\n",
    "match some_option {\n",
    "  Direction7::Up(amount) => println!(\"up: {}!\", amount),\n",
    "  Direction7::Down(amount) => println!(\"down: {}!\", amount),\n",
    "  Direction7::Left(amount) => println!(\"left: {}!\", amount),\n",
    "  Direction7::Right(amount) => println!(\"right: {}!\", amount),\n",
    "  _ => (),\n",
    "}"
   ]
  },
  {
   "cell_type": "markdown",
   "metadata": {},
   "source": [
    "to"
   ]
  },
  {
   "cell_type": "code",
   "execution_count": 44,
   "metadata": {},
   "outputs": [
    {
     "name": "stdout",
     "output_type": "stream",
     "text": [
      "up: 3!\n"
     ]
    },
    {
     "data": {
      "text/plain": [
       "()"
      ]
     },
     "execution_count": 44,
     "metadata": {},
     "output_type": "execute_result"
    }
   ],
   "source": [
    "enum Direction8 {\n",
    "  Up(i32),\n",
    "  Down(i32),\n",
    "  Left(i32),\n",
    "  Right(i32),\n",
    "}\n",
    "\n",
    "let some_option = Direction8::Up(3);\n",
    "if let Direction8::Up(amount) = some_option {\n",
    "  println!(\"up: {}!\", amount);\n",
    "} else if let Direction8::Down(amount) = some_option {\n",
    "  println!(\"down {}!\", amount);\n",
    "} else if let Direction8::Left(amount) = some_option {\n",
    "  println!(\"left {}!\", amount);\n",
    "} else if let Direction8::Right(amount) = some_option {\n",
    "  println!(\"right {}!\", amount);\n",
    "}"
   ]
  },
  {
   "cell_type": "markdown",
   "metadata": {},
   "source": [
    "## Vectors"
   ]
  },
  {
   "cell_type": "markdown",
   "metadata": {},
   "source": [
    "`Vec<T>` (aka vectors) is a collection type or list\n",
    "- in rust like most other languages, the first element in a list is at index 0\n",
    "- `Vec` is simply a growable array"
   ]
  },
  {
   "cell_type": "code",
   "execution_count": 45,
   "metadata": {},
   "outputs": [
    {
     "name": "stdout",
     "output_type": "stream",
     "text": [
      "create an empty vector: []\n",
      "create a vector with some values: [1, 2, 3]\n",
      "get an item from a vector: 3\n",
      "iterate over a vector: 100\n",
      "iterate over a vector: 32\n",
      "iterate over a vector: 57\n",
      "get an item that might not exist from a vector: None\n",
      "iterate over a vector and mutate the values: [150, 82, 107]\n",
      "storing multiple values with enums: [Int(3), Text(\"blue\"), Float(10.12)]\n",
      "create a vector and remove values dynamically: [0, 1, 2]\n"
     ]
    }
   ],
   "source": [
    "// create an empty vector\n",
    "let v: Vec<i32> = Vec::new();\n",
    "println!(\"create an empty vector: {:?}\", v);\n",
    "\n",
    "// create a vector with some values\n",
    "let v = vec![1, 2, 3];\n",
    "println!(\"create a vector with some values: {:?}\", v);\n",
    "\n",
    "// create a vector and add values dynamically\n",
    "let mut v = Vec::new();\n",
    "v.push(1);\n",
    "v.push(2);\n",
    "v.push(3);\n",
    "\n",
    "// get an item from a vector\n",
    "let v = vec![1, 2, 3];\n",
    "println!(\"get an item from a vector: {:?}\", &v[2]);\n",
    "\n",
    "// iterate over a vector\n",
    "let v = vec![100, 32, 57];\n",
    "for i in &v {\n",
    "  println!(\"iterate over a vector: {}\", i);\n",
    "}\n",
    "\n",
    "// get an item that might not exist from a vector\n",
    "let v = vec![100, 32, 57];\n",
    "// println!(\"get an item that might not exist from a vector: {:?}\", &v[100]);\n",
    "// this will cause a panic\n",
    "// because the index is out of bounds\n",
    "// instead use the get method\n",
    "println!(\"get an item that might not exist from a vector: {:?}\", v.get(100));\n",
    "\n",
    "// iterate over a vector and mutate the values\n",
    "let mut v = vec![100, 32, 57];\n",
    "for i in &mut v {\n",
    "  *i += 50;\n",
    "}\n",
    "println!(\"iterate over a vector and mutate the values: {:?}\", v);\n",
    "\n",
    "// storing multiple values with enums\n",
    "#[derive(Debug)]\n",
    "enum SpreadsheetCell {\n",
    "  Int(i32),\n",
    "  Float(f64),\n",
    "  Text(String),\n",
    "}\n",
    "\n",
    "let row = vec![\n",
    "  SpreadsheetCell::Int(3),\n",
    "  SpreadsheetCell::Text(String::from(\"blue\")),\n",
    "  SpreadsheetCell::Float(10.12),\n",
    "];\n",
    "println!(\"storing multiple values with enums: {:?}\", row);\n",
    "\n",
    "// create a vector and remove values dynamically\n",
    "let mut v = vec![0, 1, 2, 3, 4, 5];\n",
    "// `pop` also returns the value that was removed\n",
    "v.pop(); // returns Some(5)\n",
    "v.pop(); // returns Some(4)\n",
    "v.pop(); // returns Some(3)\n",
    "println!(\"create a vector and remove values dynamically: {:?}\", v);"
   ]
  },
  {
   "cell_type": "markdown",
   "metadata": {},
   "source": [
    "## Hashmaps"
   ]
  },
  {
   "cell_type": "markdown",
   "metadata": {},
   "source": [
    "`HashMap<K, V>` is like an object in javascript (it stores key-value pairs)\n",
    "- `HashMap` is a collection type\n",
    "- you must always import `HashMap` before using it"
   ]
  },
  {
   "cell_type": "code",
   "execution_count": 46,
   "metadata": {},
   "outputs": [],
   "source": [
    "use std::collections::HashMap;"
   ]
  },
  {
   "cell_type": "code",
   "execution_count": 34,
   "metadata": {},
   "outputs": [
    {
     "name": "stdout",
     "output_type": "stream",
     "text": [
      "create an empty hashmap: {}\n",
      "create a hashmap with some values: {\"Yellow\": 50, \"Blue\": 10}\n",
      "create a `HashMap` from iterables: {\"Blue\": 10, \"Yellow\": 50}\n",
      "get a value from a hashmap: 10\n",
      "iterate over a hashmap: Yellow: 50\n",
      "iterate over a hashmap: Blue: 10\n",
      "iterate over a hashmap and mutate the values: {\"Blue\": 20, \"Yellow\": 60}\n",
      "overwrite a value in a hashmap: {\"Blue\": 20, \"Yellow\": 50}\n",
      "only insert a value if the key is not already present: {\"Blue\": 10, \"Yellow\": 50}\n",
      "update a value based on the old value: {\"hello\": 1, \"world\": 2, \"wonderful\": 1}\n"
     ]
    }
   ],
   "source": [
    "// create an empty hashmap\n",
    "let scores = HashMap::<String, u8>::new();\n",
    "\n",
    "println!(\"create an empty hashmap: {:?}\", scores);\n",
    "\n",
    "// create a hashmap with some values\n",
    "let mut scores = HashMap::new();\n",
    "scores.insert(String::from(\"Blue\"), 10);\n",
    "scores.insert(String::from(\"Yellow\"), 50);\n",
    "\n",
    "println!(\"create a hashmap with some values: {:?}\", scores);\n",
    "\n",
    "// create a `HashMap` from iterables\n",
    "let teams = vec![String::from(\"Blue\"), String::from(\"Yellow\")];\n",
    "let initial_scores = vec![10, 50];\n",
    "let scores: HashMap<_, _> = teams.iter().zip(initial_scores.iter()).collect();\n",
    "\n",
    "println!(\"create a `HashMap` from iterables: {:?}\", &scores);\n",
    "\n",
    "// get a value from a hashmap\n",
    "let mut scores = HashMap::new();\n",
    "scores.insert(String::from(\"Blue\"), 10);\n",
    "scores.insert(String::from(\"Yellow\"), 50);\n",
    "\n",
    "println!(\"get a value from a hashmap: {}\", scores.get(&String::from(\"Blue\")).unwrap());\n",
    "\n",
    "// iterate over a hashmap\n",
    "let mut scores = HashMap::new();\n",
    "scores.insert(String::from(\"Blue\"), 10);\n",
    "scores.insert(String::from(\"Yellow\"), 50);\n",
    "\n",
    "for (key, value) in &scores {\n",
    "  println!(\"iterate over a hashmap: {}: {}\", key, value);\n",
    "}\n",
    "\n",
    "// iterate over a hashmap and mutate the values\n",
    "let mut scores = HashMap::new();\n",
    "scores.insert(String::from(\"Blue\"), 10);\n",
    "scores.insert(String::from(\"Yellow\"), 50);\n",
    "\n",
    "for (_, value) in &mut scores {\n",
    "  *value += 10;\n",
    "}\n",
    "\n",
    "println!(\"iterate over a hashmap and mutate the values: {:?}\", scores);\n",
    "\n",
    "// overwrite a value in a hashmap\n",
    "let mut scores = HashMap::new();\n",
    "scores.insert(String::from(\"Blue\"), 10);\n",
    "scores.insert(String::from(\"Yellow\"), 50);\n",
    "scores.insert(String::from(\"Blue\"), 20);\n",
    "\n",
    "println!(\"overwrite a value in a hashmap: {:?}\", scores);\n",
    "\n",
    "// only insert a value if the key is not already present\n",
    "let mut scores = HashMap::new();\n",
    "scores.insert(String::from(\"Blue\"), 10);\n",
    "scores.entry(String::from(\"Yellow\")).or_insert(50);\n",
    "scores.entry(String::from(\"Blue\")).or_insert(50);\n",
    "\n",
    "println!(\"only insert a value if the key is not already present: {:?}\", scores);\n",
    "\n",
    "// update a value based on the old value\n",
    "let text = \"hello world wonderful world\";\n",
    "let mut map = HashMap::new();\n",
    "\n",
    "for word in text.split_whitespace() {\n",
    "  let count = map.entry(word).or_insert(0);\n",
    "  *count += 1;\n",
    "}\n",
    "\n",
    "println!(\"update a value based on the old value: {:?}\", map);"
   ]
  },
  {
   "cell_type": "markdown",
   "metadata": {},
   "source": [
    "## Error Handling"
   ]
  },
  {
   "cell_type": "markdown",
   "metadata": {},
   "source": [
    "`panic!` throws an exception and stops the program"
   ]
  },
  {
   "cell_type": "code",
   "execution_count": 36,
   "metadata": {},
   "outputs": [
    {
     "name": "stderr",
     "output_type": "stream",
     "text": [
      "thread '<unnamed>' panicked at 'crash and burn', src/lib.rs:29:1\n",
      "stack backtrace:\n",
      "   0: std::panicking::begin_panic\n",
      "   1: run_user_code_16\n",
      "   2: <unknown>\n",
      "   3: <unknown>\n",
      "   4: <unknown>\n",
      "   5: <unknown>\n",
      "   6: <unknown>\n",
      "   7: <unknown>\n",
      "   8: <unknown>\n",
      "   9: <unknown>\n",
      "  10: BaseThreadInitThunk\n",
      "  11: RtlUserThreadStart\n",
      "note: Some details are omitted, run with `RUST_BACKTRACE=full` for a verbose backtrace.\n"
     ]
    },
    {
     "ename": "Error",
     "evalue": "Child process terminated with status: exit code: 0xc0000005",
     "output_type": "error",
     "traceback": [
      "Child process terminated with status: exit code: 0xc0000005"
     ]
    }
   ],
   "source": [
    "panic!(\"crash and burn\");"
   ]
  },
  {
   "cell_type": "markdown",
   "metadata": {},
   "source": [
    "`Result<T, E>` is the type used if something can be an error or a value"
   ]
  },
  {
   "cell_type": "code",
   "execution_count": 10,
   "metadata": {},
   "outputs": [
    {
     "name": "stdout",
     "output_type": "stream",
     "text": [
      "handle results: success 5\n",
      "handle results: error Error\n",
      "match on different errors: File { handle: 0x1c4, path: \"\\\\\\\\?\\\\C:\\\\Users\\\\Joseph\\\\code\\\\learning-rust\\\\hello.txt\" }\n"
     ]
    }
   ],
   "source": [
    "// enum Result<T, E> {\n",
    "//   Ok(T),\n",
    "//   Err(E),\n",
    "// }\n",
    "\n",
    "\n",
    "// `Ok` is a successful result\n",
    "let x: Result<i32, &str> = Ok(5i32);\n",
    "\n",
    "// `Err` is an error result\n",
    "let x: Result<i32, &str> = Err(\"Error\");\n",
    "\n",
    "// `match` statements are used to handle results\n",
    "let x: Result<i32, &str> = Ok(5i32);\n",
    "let y: Result<i32, &str>  = Err(\"Error\");\n",
    "\n",
    "match x {\n",
    "  Ok(val) => println!(\"handle results: success {}\", val),\n",
    "  Err(e) => println!(\"handle results: error {}\", e),\n",
    "}\n",
    "\n",
    "match y {\n",
    "  Ok(val) => println!(\"handle results: success {}\", val),\n",
    "  Err(e) => println!(\"handle results: error {}\", e),\n",
    "}\n",
    "\n",
    "// match on different errors\n",
    "use std::fs::File;\n",
    "use std::io::ErrorKind;\n",
    "\n",
    "let f = File::open(\"hello.txt\");\n",
    "\n",
    "let f = match f {\n",
    "  Ok(file) => file,\n",
    "  Err(error) => match error.kind() {\n",
    "    ErrorKind::NotFound => match File::create(\"hello.txt\") {\n",
    "      Ok(fc) => fc,\n",
    "      Err(e) => panic!(\"Problem creating the file: {:?}\", e),\n",
    "    },\n",
    "    other_error => {\n",
    "      panic!(\"Problem opening the file: {:?}\", other_error)\n",
    "    }\n",
    "  },\n",
    "};\n",
    "\n",
    "println!(\"match on different errors: {:?}\", f);\n",
    "\n",
    "// the `expect` function is used to handle errors\n",
    "use std::fs::File;\n",
    "\n",
    "let f = File::open(\"hello.txt\").expect(\"Failed to open hello.txt\");\n",
    "\n",
    "// propagate errors\n",
    "use std::fs::File;\n",
    "use std::io::{self, Read};\n",
    "\n",
    "fn read_username_from_file() -> Result<String, io::Error> {\n",
    "  let f = File::open(\"hello.txt\");\n",
    "\n",
    "  let mut f = match f {\n",
    "    Ok(file) => file,\n",
    "    Err(e) => return Err(e),\n",
    "  };\n",
    "\n",
    "  let mut s = String::new();\n",
    "\n",
    "  match f.read_to_string(&mut s) {\n",
    "    Ok(_) => Ok(s),\n",
    "    Err(e) => Err(e),\n",
    "  }\n",
    "}\n",
    "\n",
    "// propagate errors with `?` (this does the same as above)\n",
    "use std::fs::File;\n",
    "use std::io::{self, Read};\n",
    "\n",
    "fn read_username_from_file() -> Result<String, io::Error> {\n",
    "  let mut f = File::open(\"hello.txt\")?;\n",
    "  let mut s = String::new();\n",
    "  f.read_to_string(&mut s)?;\n",
    "  Ok(s)\n",
    "}\n",
    "\n",
    "// even shorter\n",
    "use std::fs::File;\n",
    "use std::io::{self, Read};\n",
    "\n",
    "fn read_username_from_file() -> Result<String, io::Error> {\n",
    "  let mut s = String::new();\n",
    "  File::open(\"hello.txt\")?.read_to_string(&mut s)?;\n",
    "  Ok(s)\n",
    "}\n",
    "\n",
    "// `?` can only be used if the return type is `Result`, `Option` or another type that implements `std::ops::Try`\n",
    "\n",
    "// the main function can be given another return type to get around this\n",
    "use std::error::Error;\n",
    "use std::fs::File;\n",
    "\n",
    "fn main() -> Result<(), Box<dyn Error>> {\n",
    "  let f = File::open(\"hello.txt\")?;\n",
    "\n",
    "  Ok(())\n",
    "}"
   ]
  },
  {
   "cell_type": "markdown",
   "metadata": {},
   "source": [
    "`Result<T, E>` is included in the standard library and does not need to be imported."
   ]
  },
  {
   "cell_type": "markdown",
   "metadata": {},
   "source": [
    "## Traits"
   ]
  },
  {
   "cell_type": "markdown",
   "metadata": {},
   "source": [
    "`trait` can be used to make a list of functions an object must have, this is a bit similar to inheritance in javascript\n",
    "  - this makes it so that we can have a group of different types that can be used under  the same name\n",
    "  - `impl` can be used to implement a trait for an object"
   ]
  },
  {
   "cell_type": "code",
   "execution_count": 16,
   "metadata": {},
   "outputs": [
    {
     "name": "stdout",
     "output_type": "stream",
     "text": [
      "drawing paragraph: (75, 10) Hello World!\n",
      "drawing button: (50, 10) OK\n"
     ]
    }
   ],
   "source": [
    "trait Draw {\n",
    "  fn draw(&self);\n",
    "}\n",
    "\n",
    "struct Button {\n",
    "  width: u32,\n",
    "  height: u32,\n",
    "  label: String,\n",
    "}\n",
    "\n",
    "impl Draw for Button {\n",
    "  fn draw(&self) {\n",
    "    println!(\"drawing button: ({}, {}) {}\", self.width, self.height, self.label);\n",
    "  }\n",
    "}\n",
    "\n",
    "struct Paragraph {\n",
    "  width: u32,\n",
    "  height: u32,\n",
    "  text: String,\n",
    "}\n",
    "\n",
    "impl Draw for Paragraph {\n",
    "  fn draw(&self) {\n",
    "    println!(\"drawing paragraph: ({}, {}) {}\", self.width, self.height, self.text);\n",
    "  }\n",
    "}\n",
    "\n",
    "// so as long as the type implements the trait, it can be used as a trait object\n",
    "pub struct Screen {\n",
    "  pub components: Vec<Box<dyn Draw>>,\n",
    "}\n",
    "\n",
    "impl Screen {\n",
    "  pub fn run(&self) {\n",
    "    for component in self.components.iter() {\n",
    "      component.draw();\n",
    "    }\n",
    "  }\n",
    "}\n",
    "\n",
    "// as you can see the Paragraph and Button types can be used under the Draw trait\n",
    "let screen = Screen {\n",
    "  components: vec![\n",
    "    Box::new(Paragraph {\n",
    "      width: 75,\n",
    "      height: 10,\n",
    "      text: String::from(\"Hello World!\"),\n",
    "    }),\n",
    "    Box::new(Button {\n",
    "      width: 50,\n",
    "      height: 10,\n",
    "      label: String::from(\"OK\"),\n",
    "    }),\n",
    "  ],\n",
    "};\n",
    "\n",
    "screen.run();"
   ]
  },
  {
   "cell_type": "markdown",
   "metadata": {},
   "source": [
    "## Threading"
   ]
  },
  {
   "cell_type": "markdown",
   "metadata": {},
   "source": [
    "`std::thread`, similar to python's `threading` module, allows you to spawn a new thread to run asynchronously"
   ]
  },
  {
   "cell_type": "code",
   "execution_count": 23,
   "metadata": {},
   "outputs": [
    {
     "name": "stdout",
     "output_type": "stream",
     "text": [
      "hi number 1 from the main thread!\n",
      "hi number 1 from the spawned thread!\n",
      "hi number 2 from the main thread!\n",
      "hi number 2 from the spawned thread!\n",
      "hi number 3 from the main thread!\n",
      "hi number 3 from the spawned thread!\n",
      "hi number 4 from the main thread!\n",
      "hi number 4 from the spawned thread!\n",
      "hi number 5 from the spawned thread!\n"
     ]
    },
    {
     "data": {
      "text/plain": [
       "()"
      ]
     },
     "execution_count": 23,
     "metadata": {},
     "output_type": "execute_result"
    }
   ],
   "source": [
    "use std::thread;\n",
    "use std::time::Duration;\n",
    "\n",
    "thread::spawn(|| {\n",
    "  for i in 1..10 {\n",
    "    println!(\"hi number {} from the spawned thread!\", i);\n",
    "    thread::sleep(Duration::from_millis(1));\n",
    "  }\n",
    "});\n",
    "\n",
    "for i in 1..5 {\n",
    "  println!(\"hi number {} from the main thread!\", i);\n",
    "  thread::sleep(Duration::from_millis(1));\n",
    "}"
   ]
  },
  {
   "cell_type": "markdown",
   "metadata": {},
   "source": [
    "it is important to note that the thread is spawned in the background, so the main thread will continue to run and the spawned thread will stop running when the main thread is done"
   ]
  },
  {
   "cell_type": "markdown",
   "metadata": {},
   "source": [
    "wait for a thread to finish with `join`"
   ]
  },
  {
   "cell_type": "code",
   "execution_count": 25,
   "metadata": {},
   "outputs": [
    {
     "name": "stdout",
     "output_type": "stream",
     "text": [
      "hi number 1 from the main thread!\n",
      "hi number 1 from the spawned thread!\n",
      "hi number 2 from the spawned thread!\n",
      "hi number 2 from the main thread!\n",
      "hi number 3 from the spawned thread!\n",
      "hi number 3 from the main thread!\n",
      "hi number 4 from the main thread!\n",
      "hi number 4 from the spawned thread!\n",
      "hi number 5 from the spawned thread!\n",
      "hi number 6 from the spawned thread!\n",
      "hi number 7 from the spawned thread!\n",
      "hi number 8 from the spawned thread!\n",
      "hi number 9 from the spawned thread!\n"
     ]
    }
   ],
   "source": [
    "use std::thread;\n",
    "use std::time::Duration;\n",
    "\n",
    "let handle = thread::spawn(|| {\n",
    "  for i in 1..10 {\n",
    "    println!(\"hi number {} from the spawned thread!\", i);\n",
    "    thread::sleep(Duration::from_millis(1));\n",
    "  }\n",
    "});\n",
    "\n",
    "for i in 1..5 {\n",
    "  println!(\"hi number {} from the main thread!\", i);\n",
    "  thread::sleep(Duration::from_millis(1));\n",
    "}\n",
    "\n",
    "handle.join().unwrap();"
   ]
  },
  {
   "cell_type": "markdown",
   "metadata": {},
   "source": [
    "use the `move` keyword to move ownership of a value into a new thread"
   ]
  },
  {
   "cell_type": "code",
   "execution_count": 26,
   "metadata": {},
   "outputs": [
    {
     "ename": "Error",
     "evalue": "closure may outlive the current function, but it borrows `v`, which is owned by the current function",
     "output_type": "error",
     "traceback": [
      "let t = thread::spawn(|| { println!(\"{:?}\", v); });",
      "                                            ^ `v` is borrowed here",
      "let t = thread::spawn(|| { println!(\"{:?}\", v); });",
      "                      ^^ may outlive borrowed value `v`",
      "closure may outlive the current function, but it borrows `v`, which is owned by the current function",
      "help: to force the closure to take ownership of `v` (and any other referenced variables), use the `move` keyword\n\nmove"
     ]
    },
    {
     "ename": "Error",
     "evalue": "cannot move out of `v` because it is borrowed",
     "output_type": "error",
     "traceback": [
      "let t = thread::spawn(|| { println!(\"{:?}\", v); });",
      "                      ^^ borrow of `v` occurs here",
      "drop(v);",
      "     ^ move out of `v` occurs here",
      "let t = thread::spawn(|| { println!(\"{:?}\", v); });",
      "                                            ^ borrow occurs due to use in closure",
      "let t = thread::spawn(|| { println!(\"{:?}\", v); });",
      "        ^^^^^^^^^^^^^^^^^^^^^^^^^^^^^^^^^^^^^^^^^^ argument requires that `v` is borrowed for `'static`",
      "cannot move out of `v` because it is borrowed"
     ]
    }
   ],
   "source": [
    "let v = vec![1, 2, 3];\n",
    "let t = thread::spawn(|| { println!(\"{:?}\", v); });\n",
    "drop(v);\n",
    "t.join().unwrap();"
   ]
  },
  {
   "cell_type": "code",
   "execution_count": 27,
   "metadata": {},
   "outputs": [
    {
     "ename": "Error",
     "evalue": "use of moved value: `v`",
     "output_type": "error",
     "traceback": [
      "let t = thread::spawn(move || { println!(\"{:?}\", v); });",
      "                      ^^^^^^^ value moved into closure here",
      "let t = thread::spawn(move || { println!(\"{:?}\", v); });",
      "                                                 ^ variable moved due to use in closure",
      "drop(v);",
      "     ^ value used here after move",
      "let v = vec![1, 2, 3];",
      "    ^ move occurs because `v` has type `Vec<i32>`, which does not implement the `Copy` trait",
      "use of moved value: `v`"
     ]
    }
   ],
   "source": [
    "let v = vec![1, 2, 3];\n",
    "let t = thread::spawn(move || { println!(\"{:?}\", v); });\n",
    "drop(v);\n",
    "t.join().unwrap();"
   ]
  },
  {
   "cell_type": "code",
   "execution_count": 28,
   "metadata": {},
   "outputs": [
    {
     "name": "stdout",
     "output_type": "stream",
     "text": [
      "[1, 2, 3]\n"
     ]
    }
   ],
   "source": [
    "let v = vec![1, 2, 3];\n",
    "let t = thread::spawn(move || { println!(\"{:?}\", v); });\n",
    "t.join().unwrap();"
   ]
  },
  {
   "cell_type": "markdown",
   "metadata": {},
   "source": [
    "> “Do not communicate by sharing memory; instead, share memory by communicating.”\n",
    "\n",
    "<https://golang.org/doc/effective_go#concurrency>"
   ]
  },
  {
   "cell_type": "markdown",
   "metadata": {},
   "source": [
    "this is a good example of why you should not communicate by sharing memory, instead communicate by communicating"
   ]
  },
  {
   "cell_type": "code",
   "execution_count": 36,
   "metadata": {},
   "outputs": [
    {
     "ename": "Error",
     "evalue": "borrow of moved value: `v`",
     "output_type": "error",
     "traceback": [
      "let handle = thread::spawn(move || {",
      "                           ^^^^^^^ value moved into closure here",
      "  println!(\"(sub-thread) Here's a vector: {:?}\", v);",
      "                                                 ^ variable moved due to use in closure",
      "println!(\"Here's a vector: {:?}\", v);",
      "                                  ^ value borrowed here after move",
      "let v = vec![1, 2, 3];",
      "    ^ move occurs because `v` has type `Vec<i32>`, which does not implement the `Copy` trait",
      "borrow of moved value: `v`"
     ]
    }
   ],
   "source": [
    "use std::thread;\n",
    "use std::time::Duration;\n",
    "\n",
    "let v = vec![1, 2, 3];\n",
    "let handle = thread::spawn(move || {\n",
    "  println!(\"(sub-thread) Here's a vector: {:?}\", v);\n",
    "});\n",
    "println!(\"Here's a vector: {:?}\", v);\n",
    "handle.join().unwrap();"
   ]
  },
  {
   "cell_type": "markdown",
   "metadata": {},
   "source": [
    "instead of sharing variables between threads, pass messages between threads"
   ]
  },
  {
   "cell_type": "code",
   "execution_count": 39,
   "metadata": {},
   "outputs": [
    {
     "name": "stdout",
     "output_type": "stream",
     "text": [
      "Got: hello\n"
     ]
    }
   ],
   "source": [
    "use std::sync::mpsc;\n",
    "use std::thread;\n",
    "\n",
    "let (tx, rx) = mpsc::channel();\n",
    "\n",
    "let spawned = thread::spawn(move || {\n",
    "  tx.send(String::from(\"hello\")).unwrap();\n",
    "});\n",
    "\n",
    "let received = rx.recv().unwrap();\n",
    "println!(\"Got: {}\", received);\n",
    "\n",
    "spawned.join().unwrap();"
   ]
  },
  {
   "cell_type": "markdown",
   "metadata": {},
   "source": [
    "send multiple messages and iterate over them"
   ]
  },
  {
   "cell_type": "code",
   "execution_count": 45,
   "metadata": {},
   "outputs": [
    {
     "name": "stdout",
     "output_type": "stream",
     "text": [
      "hi \n",
      "from \n",
      "the \n",
      "thread \n"
     ]
    }
   ],
   "source": [
    "use std::sync::mpsc;\n",
    "use std::thread;\n",
    "use std::time::Duration;\n",
    "\n",
    "let (tx, rx) = mpsc::channel();\n",
    "\n",
    "let spawned = thread::spawn(move || {\n",
    "  let vals = vec![\n",
    "    String::from(\"hi\"),\n",
    "    String::from(\"from\"),\n",
    "    String::from(\"the\"),\n",
    "    String::from(\"thread\"),\n",
    "  ];\n",
    "\n",
    "  for val in vals {\n",
    "    tx.send(val).unwrap();\n",
    "    thread::sleep(Duration::from_secs(1));\n",
    "  }\n",
    "});\n",
    "\n",
    "for received in rx {\n",
    "  println!(\"{} \", received);\n",
    "}\n",
    "\n",
    "spawned.join().unwrap();"
   ]
  },
  {
   "cell_type": "markdown",
   "metadata": {},
   "source": [
    "multiple producers"
   ]
  },
  {
   "cell_type": "code",
   "execution_count": 46,
   "metadata": {},
   "outputs": [
    {
     "name": "stdout",
     "output_type": "stream",
     "text": [
      "Got: hi\n",
      "Got: more\n",
      "Got: messages\n",
      "Got: from\n",
      "Got: for\n",
      "Got: the\n",
      "Got: you\n",
      "Got: thread\n"
     ]
    },
    {
     "data": {
      "text/plain": [
       "()"
      ]
     },
     "execution_count": 46,
     "metadata": {},
     "output_type": "execute_result"
    }
   ],
   "source": [
    "use std::sync::mpsc;\n",
    "use std::thread;\n",
    "use std::time::Duration;\n",
    "\n",
    "let (tx, rx) = mpsc::channel();\n",
    "\n",
    "let tx1 = tx.clone();\n",
    "thread::spawn(move || {\n",
    "  let vals = vec![\n",
    "    String::from(\"hi\"),\n",
    "    String::from(\"from\"),\n",
    "    String::from(\"the\"),\n",
    "    String::from(\"thread\"),\n",
    "  ];\n",
    "\n",
    "  for val in vals {\n",
    "    tx1.send(val).unwrap();\n",
    "    thread::sleep(Duration::from_secs(1));\n",
    "  }\n",
    "});\n",
    "\n",
    "thread::spawn(move || {\n",
    "  let vals = vec![\n",
    "    String::from(\"more\"),\n",
    "    String::from(\"messages\"),\n",
    "    String::from(\"for\"),\n",
    "    String::from(\"you\"),\n",
    "  ];\n",
    "\n",
    "  for val in vals {\n",
    "    tx.send(val).unwrap();\n",
    "    thread::sleep(Duration::from_secs(1));\n",
    "  }\n",
    "});\n",
    "\n",
    "for received in rx {\n",
    "    println!(\"Got: {}\", received);\n",
    "}"
   ]
  },
  {
   "cell_type": "markdown",
   "metadata": {},
   "source": [
    "## Miscellaneous"
   ]
  },
  {
   "cell_type": "markdown",
   "metadata": {},
   "source": [
    "to import a local module first use the mod key word followed by the name of the module"
   ]
  },
  {
   "cell_type": "code",
   "execution_count": 48,
   "metadata": {},
   "outputs": [
    {
     "ename": "Error",
     "evalue": "file not found for module `my_mod`",
     "output_type": "error",
     "traceback": [
      "mod my_mod;",
      "^^^^^^^^^^^ ",
      "file not found for module `my_mod`",
      "help: to create the module `my_mod`, create file \"src\\my_mod.rs\" or \"src\\my_mod\\mod.rs\""
     ]
    },
    {
     "ename": "Error",
     "evalue": "unresolved import `my_mod::hello`",
     "output_type": "error",
     "traceback": [
      "no `hello` in `my_mod`",
      "unresolved import `my_mod::hello`"
     ]
    }
   ],
   "source": [
    "mod my_mod;\n",
    "use my_mod::hello;\n",
    "// there will be an error because I have not made the file \"my_mod.rs\""
   ]
  },
  {
   "cell_type": "markdown",
   "metadata": {},
   "source": [
    "`std::env` includes the `args` function to get the args and the `var` function to get an environment variable"
   ]
  },
  {
   "cell_type": "markdown",
   "metadata": {},
   "source": [
    "`eprintln!` and `eprint!` are macros that print to stderr"
   ]
  },
  {
   "cell_type": "markdown",
   "metadata": {},
   "source": [
    "### Templates"
   ]
  },
  {
   "cell_type": "code",
   "execution_count": 49,
   "metadata": {},
   "outputs": [],
   "source": [
    "struct Message<T> {\n",
    "  content: T,\n",
    "  from: String,\n",
    "  to: String,\n",
    "}\n",
    "\n",
    "let x = Message::<String> {\n",
    "  content: \"hello\".to_string(),\n",
    "  from: \"Boris\".to_string(),\n",
    "  to: \"Joe\".to_string(),\n",
    "};\n",
    "let y = Message::<u32> {\n",
    "  content: 123u32,\n",
    "  from: \"Joe\".to_string(),\n",
    "  to: \"Boris\".to_string(),\n",
    "};"
   ]
  },
  {
   "cell_type": "code",
   "execution_count": 53,
   "metadata": {},
   "outputs": [
    {
     "name": "stdout",
     "output_type": "stream",
     "text": [
      "The largest number is 100\n",
      "The largest char is y\n"
     ]
    }
   ],
   "source": [
    "fn largest<T: PartialOrd>(list: &[T]) -> &T {\n",
    "  let mut largest = &list[0];\n",
    "\n",
    "  for item in list.clone() {\n",
    "    if &item > &largest {\n",
    "      largest = &item;\n",
    "    }\n",
    "  }\n",
    "\n",
    "  largest\n",
    "}\n",
    "\n",
    "let number_list = vec![34, 50, 25, 100, 65];\n",
    "\n",
    "println!(\"The largest number is {}\", largest(&number_list));\n",
    "\n",
    "let char_list = vec!['y', 'm', 'a', 'q'];\n",
    "\n",
    "println!(\"The largest char is {}\", largest(&char_list));"
   ]
  },
  {
   "cell_type": "code",
   "execution_count": 55,
   "metadata": {},
   "outputs": [
    {
     "name": "stdout",
     "output_type": "stream",
     "text": [
      "The largest number is 100\n",
      "The largest char is y\n"
     ]
    }
   ],
   "source": [
    "// the ` + Copy` ensures that which ever type is given it must implement copy\n",
    "fn largest<T: PartialOrd + Copy>(list: &[T]) -> T {\n",
    "  let mut largest = list[0];\n",
    "\n",
    "  for &item in list {\n",
    "    if item > largest {\n",
    "      largest = item;\n",
    "    }\n",
    "  }\n",
    "\n",
    "  largest\n",
    "}\n",
    "\n",
    "let number_list = vec![34, 50, 25, 100, 65];\n",
    "\n",
    "println!(\"The largest number is {}\", largest(&number_list));\n",
    "\n",
    "let char_list = vec!['y', 'm', 'a', 'q'];\n",
    "\n",
    "println!(\"The largest char is {}\", largest(&char_list));"
   ]
  }
 ],
 "metadata": {
  "kernelspec": {
   "display_name": "Rust",
   "language": "rust",
   "name": "rust"
  },
  "language_info": {
   "codemirror_mode": "rust",
   "file_extension": ".rs",
   "mimetype": "text/rust",
   "name": "Rust",
   "pygment_lexer": "rust",
   "version": ""
  },
  "orig_nbformat": 4
 },
 "nbformat": 4,
 "nbformat_minor": 2
}
